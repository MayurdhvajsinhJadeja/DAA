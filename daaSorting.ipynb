{
  "nbformat": 4,
  "nbformat_minor": 0,
  "metadata": {
    "colab": {
      "provenance": [],
      "authorship_tag": "ABX9TyO9o/RpmBEceyPuI8V7SpJd",
      "include_colab_link": true
    },
    "kernelspec": {
      "name": "python3",
      "display_name": "Python 3"
    },
    "language_info": {
      "name": "python"
    }
  },
  "cells": [
    {
      "cell_type": "markdown",
      "metadata": {
        "id": "view-in-github",
        "colab_type": "text"
      },
      "source": [
        "<a href=\"https://colab.research.google.com/github/MayurdhvajsinhJadeja/DAA/blob/main/daaSorting.ipynb\" target=\"_parent\"><img src=\"https://colab.research.google.com/assets/colab-badge.svg\" alt=\"Open In Colab\"/></a>"
      ]
    },
    {
      "cell_type": "code",
      "execution_count": null,
      "metadata": {
        "colab": {
          "base_uri": "https://localhost:8080/"
        },
        "id": "6YTgSSMUYhl_",
        "outputId": "099ebaac-3141-4dbb-ec46-f5cbd8ce2459"
      },
      "outputs": [
        {
          "output_type": "stream",
          "name": "stdout",
          "text": [
            "[1, 2, 3, 4, 5, 6, 7, 8, 9, 10]\n"
          ]
        }
      ],
      "source": [
        "def SelectionSort(A):\n",
        "  for i in range(len(A)):\n",
        "    min_index = i\n",
        "    for j in range(i+1,len(A)):\n",
        "      if(A[min_index]>A[j]):\n",
        "        min_index = j\n",
        "    A[min_index],A[i]=A[i],A[min_index]\n",
        "  return A\n",
        "\n",
        "arr = [2,4,5,1,3,9,8,7,10,6]\n",
        "arr = SelectionSort(arr)\n",
        "print(arr)"
      ]
    },
    {
      "cell_type": "code",
      "source": [
        "def BubbleSort(A):\n",
        "  for i in range(len(A)):\n",
        "    swap=False\n",
        "    for j in range(len(A)-i-1):\n",
        "      if(A[j]>A[j+1]):\n",
        "        A[j],A[j+1]=A[j+1],A[j]\n",
        "        swap=True\n",
        "    if(swap==False):\n",
        "      return A\n",
        "  return A\n",
        "\n",
        "arr = [2,4,5,1,3,9,8,7,10,6]\n",
        "arr = BubbleSort(arr)\n",
        "print(arr)"
      ],
      "metadata": {
        "colab": {
          "base_uri": "https://localhost:8080/"
        },
        "id": "xKV-eiD1aKPz",
        "outputId": "6b0c1d0e-4318-4435-9a72-8234e5de279c"
      },
      "execution_count": null,
      "outputs": [
        {
          "output_type": "stream",
          "name": "stdout",
          "text": [
            "[1, 2, 3, 4, 5, 6, 7, 8, 9, 10]\n"
          ]
        }
      ]
    },
    {
      "cell_type": "code",
      "source": [
        "ord('M')"
      ],
      "metadata": {
        "colab": {
          "base_uri": "https://localhost:8080/"
        },
        "id": "Wfd05cyCqhfW",
        "outputId": "705ffe77-ac5c-44a8-89e1-a445f3876ed8"
      },
      "execution_count": null,
      "outputs": [
        {
          "output_type": "execute_result",
          "data": {
            "text/plain": [
              "77"
            ]
          },
          "metadata": {},
          "execution_count": 16
        }
      ]
    },
    {
      "cell_type": "code",
      "source": [
        "def CountingSort(A):\n",
        "  count=[0 for i in range(256)]\n",
        "  for i in range(len(A)):\n",
        "    count[ord(A[i])]+=1\n",
        "  output=\"\"\n",
        "  for i in range(256):\n",
        "    output+=(count[i]*chr(i))\n",
        "  return output\n",
        "\n",
        "s = \"MAYURDHVAJSINHJADEJAmayurdhvajsinhjadeja\"\n",
        "out = CountingSort(s)\n",
        "print(out)"
      ],
      "metadata": {
        "colab": {
          "base_uri": "https://localhost:8080/"
        },
        "id": "6ZvlX1ywkk0V",
        "outputId": "a8fb1dd2-c370-4849-a0f8-3711629ac5de"
      },
      "execution_count": null,
      "outputs": [
        {
          "output_type": "stream",
          "name": "stdout",
          "text": [
            "AAAADDEHHIJJJMNRSUVYaaaaddehhijjjmnrsuvy\n"
          ]
        }
      ]
    }
  ]
}