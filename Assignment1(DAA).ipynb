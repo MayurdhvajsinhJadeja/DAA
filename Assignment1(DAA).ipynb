{
  "nbformat": 4,
  "nbformat_minor": 0,
  "metadata": {
    "colab": {
      "name": "Assignment1(DAA).ipynb",
      "provenance": [],
      "collapsed_sections": [],
      "authorship_tag": "ABX9TyPnUjbSK1PFc/QW+Ss9g//S",
      "include_colab_link": true
    },
    "kernelspec": {
      "name": "python3",
      "display_name": "Python 3"
    },
    "language_info": {
      "name": "python"
    }
  },
  "cells": [
    {
      "cell_type": "markdown",
      "metadata": {
        "id": "view-in-github",
        "colab_type": "text"
      },
      "source": [
        "<a href=\"https://colab.research.google.com/github/MayurdhvajsinhJadeja/DAA/blob/main/Assignment1(DAA).ipynb\" target=\"_parent\"><img src=\"https://colab.research.google.com/assets/colab-badge.svg\" alt=\"Open In Colab\"/></a>"
      ]
    },
    {
      "cell_type": "code",
      "execution_count": null,
      "metadata": {
        "colab": {
          "base_uri": "https://localhost:8080/"
        },
        "id": "i777AgTQNVHX",
        "outputId": "1dbb9432-13ca-48da-8aa8-cdbf1c68ec0e"
      },
      "outputs": [
        {
          "output_type": "stream",
          "name": "stdout",
          "text": [
            "Twinkle, twinkle, little star,\n",
            "\tHow I wonder what you are!\n",
            "\t\tUp above the world so high\n",
            "\t\tLike a diamond in the sky.\n",
            "Twinkle, twinkle, little star,\n",
            "\tHow I wonder what you are\n"
          ]
        }
      ],
      "source": [
        "print(\"Twinkle, twinkle, little star,\")\n",
        "print(\"\\tHow I wonder what you are!\")\n",
        "print(\"\\t\\tUp above the world so high\") \n",
        "print(\"\\t\\tLike a diamond in the sky.\") \n",
        "print(\"Twinkle, twinkle, little star,\") \n",
        "print(\"\\tHow I wonder what you are\")"
      ]
    },
    {
      "cell_type": "code",
      "source": [
        "from datetime import date\n",
        "x=input(\"Enter Name: \")\n",
        "y=int(input(\"Enter Age: \"))\n",
        "print(x,\"will turn 100 in the year\",(date.today().year)+(100-y))"
      ],
      "metadata": {
        "colab": {
          "base_uri": "https://localhost:8080/"
        },
        "id": "bLooVjKyN_Hj",
        "outputId": "d9c83462-7d1e-4d5e-aae3-4ce6b0f142d9"
      },
      "execution_count": null,
      "outputs": [
        {
          "output_type": "stream",
          "name": "stdout",
          "text": [
            "Enter Name: Mayurdhvaj\n",
            "Enter Age: 19\n",
            "Mayurdhvaj will turn 100 in the year 2103\n"
          ]
        }
      ]
    },
    {
      "cell_type": "code",
      "source": [
        "x=int(input(\"Enter any Number: \"))\n",
        "n = str(x)\n",
        "nn = n+n\n",
        "nnn = n+n+n\n",
        "f = int(n)+int(nn)+int(nnn)\n",
        "print(f)"
      ],
      "metadata": {
        "colab": {
          "base_uri": "https://localhost:8080/"
        },
        "id": "MFs4UxWvRJQK",
        "outputId": "6b7fe0e4-a704-4723-c22e-4e443cbe67ce"
      },
      "execution_count": null,
      "outputs": [
        {
          "output_type": "stream",
          "name": "stdout",
          "text": [
            "Enter any Number: 5\n",
            "615\n"
          ]
        }
      ]
    },
    {
      "cell_type": "code",
      "source": [
        "m = int(input(\"Enter Row Value: \"))\n",
        "n = int(input(\"Enter Column Value: \"))\n",
        "array = [[0 for col in range(n)] for row in range(m)]\n",
        "for row in range(m):\n",
        "  for col in range(n):\n",
        "    array[row][col]=row*col\n",
        "print(array)"
      ],
      "metadata": {
        "colab": {
          "base_uri": "https://localhost:8080/"
        },
        "id": "NyDjQ5FVTHge",
        "outputId": "bc8f9fd2-5f53-4455-b6fc-b9f6d9ac6488"
      },
      "execution_count": null,
      "outputs": [
        {
          "output_type": "stream",
          "name": "stdout",
          "text": [
            "Enter Row Value: 3\n",
            "Enter Column Value: 4\n",
            "[[0, 0, 0, 0], [0, 1, 2, 3], [0, 2, 4, 6]]\n"
          ]
        }
      ]
    },
    {
      "cell_type": "code",
      "source": [
        "x = int(input(\"Angle X: \"))\n",
        "y = int(input(\"Angle Y: \"))\n",
        "z = int(input(\"Angle Z: \"))\n",
        "degrees = x + y + z\n",
        "if (degrees == 180 and x != 0 and y != 0 and z != 0):\n",
        "  print(\"Triangle is Valid\")\n",
        "else:\n",
        "  print(\"Triangle is Invalid\")"
      ],
      "metadata": {
        "colab": {
          "base_uri": "https://localhost:8080/"
        },
        "id": "_i25K7wbXiLb",
        "outputId": "c815cce2-48c4-4314-df7e-26e3e2ee09b2"
      },
      "execution_count": null,
      "outputs": [
        {
          "output_type": "stream",
          "name": "stdout",
          "text": [
            "Angle X: 60\n",
            "Angle Y: 60\n",
            "Angle Z: 60\n",
            "Triangle is Valid\n"
          ]
        }
      ]
    },
    {
      "cell_type": "code",
      "source": [
        "x = int(input(\"Enter any Number: \"))\n",
        "# print(\"2\"*2)\n",
        "# print(\"3\"*2)\n",
        "# print(\"5\"*5)\n",
        "for i in range(x+1):\n",
        "  print(str(i) * i)"
      ],
      "metadata": {
        "colab": {
          "base_uri": "https://localhost:8080/"
        },
        "id": "p3nkNrL1Zgft",
        "outputId": "3a38a9f8-f6aa-4524-c12e-c8762c2d8177"
      },
      "execution_count": null,
      "outputs": [
        {
          "output_type": "stream",
          "name": "stdout",
          "text": [
            "Enter any Number: 5\n",
            "\n",
            "1\n",
            "22\n",
            "333\n",
            "4444\n",
            "55555\n"
          ]
        }
      ]
    },
    {
      "cell_type": "code",
      "source": [
        "x = 5\n",
        "for i in range(0,x):\n",
        "  for j in range(i):\n",
        "    print(\"*\", end=\" \")\n",
        "  print()\n",
        "for i in range(x,0,-1):\n",
        "  for j in range(i):\n",
        "    print(\"*\", end=\" \")\n",
        "  print()\n",
        "    \n",
        "  \n"
      ],
      "metadata": {
        "colab": {
          "base_uri": "https://localhost:8080/"
        },
        "id": "K6Utp_YUahUo",
        "outputId": "a69085b7-7393-47fd-fac3-ca3fa4f05f33"
      },
      "execution_count": null,
      "outputs": [
        {
          "output_type": "stream",
          "name": "stdout",
          "text": [
            "\n",
            "* \n",
            "* * \n",
            "* * * \n",
            "* * * * \n",
            "* * * * * \n",
            "* * * * \n",
            "* * * \n",
            "* * \n",
            "* \n"
          ]
        }
      ]
    },
    {
      "cell_type": "code",
      "source": [
        "x = input(\"Enter A String: \")\n",
        "countdigits = 0\n",
        "countletters = 0\n",
        "for i in x:\n",
        "  if i.isalpha():\n",
        "    countletters+=1\n",
        "  elif i.isdigit():\n",
        "    countdigits+=1\n",
        "  else:\n",
        "    pass\n",
        "print(\"Letters: \",countletters)\n",
        "print(\"Digits: \",countdigits)"
      ],
      "metadata": {
        "colab": {
          "base_uri": "https://localhost:8080/"
        },
        "id": "GbcIhv6PtR1x",
        "outputId": "03f77302-242f-401e-ccdc-6337857d1178"
      },
      "execution_count": null,
      "outputs": [
        {
          "output_type": "stream",
          "name": "stdout",
          "text": [
            "Enter A String: Python 3.2\n",
            "Letters:  6\n",
            "Digits:  2\n"
          ]
        }
      ]
    },
    {
      "cell_type": "code",
      "source": [
        "ce=0\n",
        "co=0\n",
        "x = [0,1,2,3,4,5,6,7,8,9]\n",
        "for i in x:\n",
        "  if(i%2==0):\n",
        "    # print('zero')\n",
        "    ce+=1\n",
        "  else:\n",
        "    # print('odd')\n",
        "    co+=1\n",
        "print(\"Odd: \",co)\n",
        "print(\"Even: \",ce)"
      ],
      "metadata": {
        "id": "JsktXNiBuybu",
        "colab": {
          "base_uri": "https://localhost:8080/"
        },
        "outputId": "092427d6-3c9e-4046-e8cd-590cf6e56ee9"
      },
      "execution_count": 9,
      "outputs": [
        {
          "output_type": "stream",
          "name": "stdout",
          "text": [
            "Odd:  5\n",
            "Even:  5\n"
          ]
        }
      ]
    },
    {
      "cell_type": "code",
      "source": [
        "n = 50\n",
        "x = 0\n",
        "y = 1\n",
        "sum = 0\n",
        "while(sum <= n):\n",
        "  print(sum, end = \" \")\n",
        "  x = y\n",
        "  y = sum\n",
        "  sum = x + y\n",
        "  "
      ],
      "metadata": {
        "colab": {
          "base_uri": "https://localhost:8080/"
        },
        "id": "oWanJZ9uvxA3",
        "outputId": "add1ceed-95b8-40e0-899f-f0fd789e30b0"
      },
      "execution_count": 33,
      "outputs": [
        {
          "output_type": "stream",
          "name": "stdout",
          "text": [
            "0 1 1 2 3 5 8 13 21 34 "
          ]
        }
      ]
    },
    {
      "cell_type": "code",
      "source": [
        "for i in range(1500,2701):\n",
        "  if(i%7==0 and i%5==0):\n",
        "    print(i,end=\" \")"
      ],
      "metadata": {
        "colab": {
          "base_uri": "https://localhost:8080/"
        },
        "id": "Vsx13kS85JG5",
        "outputId": "1f241cdb-3622-480d-f703-6a4093ce97a8"
      },
      "execution_count": 35,
      "outputs": [
        {
          "output_type": "stream",
          "name": "stdout",
          "text": [
            "1505 1540 1575 1610 1645 1680 1715 1750 1785 1820 1855 1890 1925 1960 1995 2030 2065 2100 2135 2170 2205 2240 2275 2310 2345 2380 2415 2450 2485 2520 2555 2590 2625 2660 2695 "
          ]
        }
      ]
    },
    {
      "cell_type": "code",
      "source": [
        "import random\n",
        "n = [1, 2, 3, 4, 5, 6, 7, 8, 9]\n",
        "x = random.choice(n)\n",
        "user = int(input(\"Enter A Number Between 1 & 9: \"))\n",
        "if(user<x):\n",
        "  print(\"You Guessed It Too Low\")\n",
        "elif(user==x):\n",
        "  print(\"You Guessed It Exactly Right\")\n",
        "else:\n",
        "  print(\"You Guessed It Too High\")"
      ],
      "metadata": {
        "colab": {
          "base_uri": "https://localhost:8080/"
        },
        "id": "e2ZB05-Q7SW0",
        "outputId": "d4b98946-31ff-4e6d-ff37-01a2a7d1cc1a"
      },
      "execution_count": 43,
      "outputs": [
        {
          "output_type": "stream",
          "name": "stdout",
          "text": [
            "Enter A Number Between 1 & 9: 3\n",
            "You Guessed It Too Low\n"
          ]
        }
      ]
    },
    {
      "cell_type": "code",
      "source": [
        "pswd = input(\"Enter Password: \")\n",
        "lc, uc, sc, d = 0, 0, 0, 0\n",
        "if (len(pswd)>=6 and len(pswd)<=16):\n",
        "  for i in pswd:\n",
        "    if (i.islower()):\n",
        "      lc+=1           \n",
        "    if (i.isupper()):\n",
        "      uc+=1           \n",
        "    if (i.isdigit()):\n",
        "      d+=1           \n",
        "    if(i=='$'or i=='@' or i=='#'):\n",
        "      sc+=1          \n",
        "if(lc>=1 and uc>=1 and sc>=1 and d>=1):\n",
        "    print(\"Valid Password\")\n",
        "else:\n",
        "    print(\"Invalid Password\")"
      ],
      "metadata": {
        "colab": {
          "base_uri": "https://localhost:8080/"
        },
        "id": "IR46BAUF83dr",
        "outputId": "7405899c-1a77-4559-bba4-3001192cf6a6"
      },
      "execution_count": 47,
      "outputs": [
        {
          "output_type": "stream",
          "name": "stdout",
          "text": [
            "Enter Password: W3r@100a\n",
            "Valid Password\n"
          ]
        }
      ]
    },
    {
      "cell_type": "code",
      "source": [
        "x = int(input(\"Side X: \"))\n",
        "y = int(input(\"Side Y: \"))\n",
        "z = int(input(\"Side Z: \"))\n",
        "if (x==y==z):\n",
        "  print(\"Triangle is Equilateral\")\n",
        "elif(x!=y!=z):\n",
        "  print(\"Triangle is Scalene\")\n",
        "elif(x==y or x==z or y==z):\n",
        "  print(\"Triangle is Isosceles\")\n",
        "else:\n",
        "  print(\"Triangle is Invalid\")"
      ],
      "metadata": {
        "colab": {
          "base_uri": "https://localhost:8080/"
        },
        "id": "Mp_j99uL_DEd",
        "outputId": "81bd4c2b-55aa-48f3-b1af-b21cc5f81916"
      },
      "execution_count": 50,
      "outputs": [
        {
          "output_type": "stream",
          "name": "stdout",
          "text": [
            "Side X: 1\n",
            "Side Y: 1\n",
            "Side Z: 2\n",
            "Triangle is Isosceles\n"
          ]
        }
      ]
    },
    {
      "cell_type": "code",
      "source": [
        "x = input(\"Enter An Alphabet: \")\n",
        "alphabet = x.upper()\n",
        "if(alphabet=='A' or alphabet=='E' or alphabet=='I' or alphabet=='O' or alphabet=='U'):\n",
        "  print(\"Vowel\")\n",
        "else:\n",
        "  print(\"Consonant\")"
      ],
      "metadata": {
        "colab": {
          "base_uri": "https://localhost:8080/"
        },
        "id": "egsqNXqeAyxY",
        "outputId": "bc09ef89-75c2-4b63-84ec-528a1b3d5f27"
      },
      "execution_count": 55,
      "outputs": [
        {
          "output_type": "stream",
          "name": "stdout",
          "text": [
            "Enter An Alphabet: a\n",
            "Vowel\n"
          ]
        }
      ]
    }
  ]
}