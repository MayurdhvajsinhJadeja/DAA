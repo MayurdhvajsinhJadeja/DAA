{
  "nbformat": 4,
  "nbformat_minor": 0,
  "metadata": {
    "colab": {
      "name": "Assignment1(DAA).ipynb",
      "provenance": []
    },
    "kernelspec": {
      "name": "python3",
      "display_name": "Python 3"
    },
    "language_info": {
      "name": "python"
    }
  },
  "cells": [
    {
      "cell_type": "code",
      "execution_count": null,
      "metadata": {
        "colab": {
          "base_uri": "https://localhost:8080/"
        },
        "id": "i777AgTQNVHX",
        "outputId": "1dbb9432-13ca-48da-8aa8-cdbf1c68ec0e"
      },
      "outputs": [
        {
          "output_type": "stream",
          "name": "stdout",
          "text": [
            "Twinkle, twinkle, little star,\n",
            "\tHow I wonder what you are!\n",
            "\t\tUp above the world so high\n",
            "\t\tLike a diamond in the sky.\n",
            "Twinkle, twinkle, little star,\n",
            "\tHow I wonder what you are\n"
          ]
        }
      ],
      "source": [
        "print(\"Twinkle, twinkle, little star,\")\n",
        "print(\"\\tHow I wonder what you are!\")\n",
        "print(\"\\t\\tUp above the world so high\") \n",
        "print(\"\\t\\tLike a diamond in the sky.\") \n",
        "print(\"Twinkle, twinkle, little star,\") \n",
        "print(\"\\tHow I wonder what you are\")"
      ]
    },
    {
      "cell_type": "code",
      "source": [
        "from datetime import date\n",
        "x=input(\"Enter Name: \")\n",
        "y=int(input(\"Enter Age: \"))\n",
        "print(x,\"will turn 100 in the year\",(date.today().year)+(100-y))"
      ],
      "metadata": {
        "colab": {
          "base_uri": "https://localhost:8080/"
        },
        "id": "bLooVjKyN_Hj",
        "outputId": "d9c83462-7d1e-4d5e-aae3-4ce6b0f142d9"
      },
      "execution_count": null,
      "outputs": [
        {
          "output_type": "stream",
          "name": "stdout",
          "text": [
            "Enter Name: Mayurdhvaj\n",
            "Enter Age: 19\n",
            "Mayurdhvaj will turn 100 in the year 2103\n"
          ]
        }
      ]
    },
    {
      "cell_type": "code",
      "source": [
        "x=int(input(\"Enter any Number: \"))\n",
        "n = str(x)\n",
        "nn = n+n\n",
        "nnn = n+n+n\n",
        "f = int(n)+int(nn)+int(nnn)\n",
        "print(f)"
      ],
      "metadata": {
        "colab": {
          "base_uri": "https://localhost:8080/"
        },
        "id": "MFs4UxWvRJQK",
        "outputId": "6b7fe0e4-a704-4723-c22e-4e443cbe67ce"
      },
      "execution_count": null,
      "outputs": [
        {
          "output_type": "stream",
          "name": "stdout",
          "text": [
            "Enter any Number: 5\n",
            "615\n"
          ]
        }
      ]
    },
    {
      "cell_type": "code",
      "source": [
        "m = int(input(\"Enter Row Value: \"))\n",
        "n = int(input(\"Enter Column Value: \"))\n",
        "array = [[0 for col in range(n)] for row in range(m)]\n",
        "for row in range(m):\n",
        "  for col in range(n):\n",
        "    array[row][col]=row*col\n",
        "print(array)"
      ],
      "metadata": {
        "colab": {
          "base_uri": "https://localhost:8080/"
        },
        "id": "NyDjQ5FVTHge",
        "outputId": "bc8f9fd2-5f53-4455-b6fc-b9f6d9ac6488"
      },
      "execution_count": null,
      "outputs": [
        {
          "output_type": "stream",
          "name": "stdout",
          "text": [
            "Enter Row Value: 3\n",
            "Enter Column Value: 4\n",
            "[[0, 0, 0, 0], [0, 1, 2, 3], [0, 2, 4, 6]]\n"
          ]
        }
      ]
    },
    {
      "cell_type": "code",
      "source": [
        "x = int(input(\"Angle X: \"))\n",
        "y = int(input(\"Angle Y: \"))\n",
        "z = int(input(\"Angle Z: \"))\n",
        "degrees = x + y + z\n",
        "if (degrees == 180 and x != 0 and y != 0 and z != 0):\n",
        "  print(\"Triangle is Valid\")\n",
        "else:\n",
        "  print(\"Triangle is Invalid\")"
      ],
      "metadata": {
        "colab": {
          "base_uri": "https://localhost:8080/"
        },
        "id": "_i25K7wbXiLb",
        "outputId": "c815cce2-48c4-4314-df7e-26e3e2ee09b2"
      },
      "execution_count": null,
      "outputs": [
        {
          "output_type": "stream",
          "name": "stdout",
          "text": [
            "Angle X: 60\n",
            "Angle Y: 60\n",
            "Angle Z: 60\n",
            "Triangle is Valid\n"
          ]
        }
      ]
    },
    {
      "cell_type": "code",
      "source": [
        "x = int(input(\"Enter any Number: \"))\n",
        "# print(\"2\"*2)\n",
        "# print(\"3\"*2)\n",
        "# print(\"5\"*5)\n",
        "for i in range(x+1):\n",
        "  print(str(i) * i)"
      ],
      "metadata": {
        "colab": {
          "base_uri": "https://localhost:8080/"
        },
        "id": "p3nkNrL1Zgft",
        "outputId": "3a38a9f8-f6aa-4524-c12e-c8762c2d8177"
      },
      "execution_count": null,
      "outputs": [
        {
          "output_type": "stream",
          "name": "stdout",
          "text": [
            "Enter any Number: 5\n",
            "\n",
            "1\n",
            "22\n",
            "333\n",
            "4444\n",
            "55555\n"
          ]
        }
      ]
    },
    {
      "cell_type": "code",
      "source": [
        "x = 5\n",
        "for i in range(0,x):\n",
        "  for j in range(i):\n",
        "    print(\"*\", end=\" \")\n",
        "  print()\n",
        "for i in range(x,0,-1):\n",
        "  for j in range(i):\n",
        "    print(\"*\", end=\" \")\n",
        "  print()\n",
        "    \n",
        "  \n"
      ],
      "metadata": {
        "colab": {
          "base_uri": "https://localhost:8080/"
        },
        "id": "K6Utp_YUahUo",
        "outputId": "a69085b7-7393-47fd-fac3-ca3fa4f05f33"
      },
      "execution_count": null,
      "outputs": [
        {
          "output_type": "stream",
          "name": "stdout",
          "text": [
            "\n",
            "* \n",
            "* * \n",
            "* * * \n",
            "* * * * \n",
            "* * * * * \n",
            "* * * * \n",
            "* * * \n",
            "* * \n",
            "* \n"
          ]
        }
      ]
    }
  ]
}