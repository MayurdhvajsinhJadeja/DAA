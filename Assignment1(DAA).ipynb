{
  "nbformat": 4,
  "nbformat_minor": 0,
  "metadata": {
    "colab": {
      "name": "Assignment1(DAA).ipynb",
      "provenance": [],
      "collapsed_sections": [],
      "authorship_tag": "ABX9TyMuz2xCYX5kmXxRbYaMEXFt",
      "include_colab_link": true
    },
    "kernelspec": {
      "name": "python3",
      "display_name": "Python 3"
    },
    "language_info": {
      "name": "python"
    }
  },
  "cells": [
    {
      "cell_type": "markdown",
      "metadata": {
        "id": "view-in-github",
        "colab_type": "text"
      },
      "source": [
        "<a href=\"https://colab.research.google.com/github/MayurdhvajsinhJadeja/DAA/blob/main/Assignment1(DAA).ipynb\" target=\"_parent\"><img src=\"https://colab.research.google.com/assets/colab-badge.svg\" alt=\"Open In Colab\"/></a>"
      ]
    },
    {
      "cell_type": "code",
      "execution_count": 26,
      "metadata": {
        "colab": {
          "base_uri": "https://localhost:8080/"
        },
        "id": "i777AgTQNVHX",
        "outputId": "f55b54b9-5b85-4e30-f7a0-0f325617d069"
      },
      "outputs": [
        {
          "output_type": "stream",
          "name": "stdout",
          "text": [
            "Twinkle, twinkle, little star,\n",
            "\tHow I wonder what you are!\n",
            "\t\tUp above the world so high\n",
            "\t\tLike a diamond in the sky.\n",
            "Twinkle, twinkle, little star,\n",
            "\tHow I wonder what you are\n"
          ]
        }
      ],
      "source": [
        "print(\"Twinkle, twinkle, little star,\")\n",
        "print(\"\\tHow I wonder what you are!\")\n",
        "print(\"\\t\\tUp above the world so high\") \n",
        "print(\"\\t\\tLike a diamond in the sky.\") \n",
        "print(\"Twinkle, twinkle, little star,\") \n",
        "print(\"\\tHow I wonder what you are\")"
      ]
    },
    {
      "cell_type": "code",
      "source": [
        "from datetime import date\n",
        "x=input(\"Enter Name: \")\n",
        "y=int(input(\"Enter Age: \"))\n",
        "print(x,\"will turn 100 in the year\",(date.today().year)+(100-y))"
      ],
      "metadata": {
        "colab": {
          "base_uri": "https://localhost:8080/"
        },
        "id": "bLooVjKyN_Hj",
        "outputId": "8bb18e4b-62d0-414d-ffa8-210e456671f8"
      },
      "execution_count": 27,
      "outputs": [
        {
          "output_type": "stream",
          "name": "stdout",
          "text": [
            "Enter Name: Mayurdhvaj\n",
            "Enter Age: 19\n",
            "Mayurdhvaj will turn 100 in the year 2103\n"
          ]
        }
      ]
    },
    {
      "cell_type": "code",
      "source": [
        "x=int(input(\"Enter any Number: \"))\n",
        "n = str(x)\n",
        "nn = n+n\n",
        "nnn = n+n+n\n",
        "f = int(n)+int(nn)+int(nnn)\n",
        "print(f)"
      ],
      "metadata": {
        "colab": {
          "base_uri": "https://localhost:8080/"
        },
        "id": "MFs4UxWvRJQK",
        "outputId": "e68a5272-36c9-46dd-e4f0-a5e7864671e2"
      },
      "execution_count": 28,
      "outputs": [
        {
          "output_type": "stream",
          "name": "stdout",
          "text": [
            "Enter any Number: 5\n",
            "615\n"
          ]
        }
      ]
    },
    {
      "cell_type": "code",
      "source": [
        "m = int(input(\"Enter Row Value: \"))\n",
        "n = int(input(\"Enter Column Value: \"))\n",
        "array = [[0 for col in range(n)] for row in range(m)]\n",
        "for row in range(m):\n",
        "  for col in range(n):\n",
        "    array[row][col]=row*col\n",
        "print(array)"
      ],
      "metadata": {
        "colab": {
          "base_uri": "https://localhost:8080/"
        },
        "id": "NyDjQ5FVTHge",
        "outputId": "3ce6dbd1-6c65-4633-ba34-838dd6801fc2"
      },
      "execution_count": 29,
      "outputs": [
        {
          "output_type": "stream",
          "name": "stdout",
          "text": [
            "Enter Row Value: 3\n",
            "Enter Column Value: 4\n",
            "[[0, 0, 0, 0], [0, 1, 2, 3], [0, 2, 4, 6]]\n"
          ]
        }
      ]
    },
    {
      "cell_type": "code",
      "source": [
        "x = int(input(\"Angle X: \"))\n",
        "y = int(input(\"Angle Y: \"))\n",
        "z = int(input(\"Angle Z: \"))\n",
        "degrees = x + y + z\n",
        "if (degrees == 180 and x != 0 and y != 0 and z != 0):\n",
        "  print(\"Triangle is Valid\")\n",
        "else:\n",
        "  print(\"Triangle is Invalid\")"
      ],
      "metadata": {
        "colab": {
          "base_uri": "https://localhost:8080/"
        },
        "id": "_i25K7wbXiLb",
        "outputId": "897a55cb-3926-40a8-9226-87e61981d69d"
      },
      "execution_count": 30,
      "outputs": [
        {
          "output_type": "stream",
          "name": "stdout",
          "text": [
            "Angle X: 120\n",
            "Angle Y: 20\n",
            "Angle Z: 40\n",
            "Triangle is Valid\n"
          ]
        }
      ]
    },
    {
      "cell_type": "code",
      "source": [
        "x = int(input(\"Enter any Number: \"))\n",
        "# print(\"2\"*2)\n",
        "# print(\"3\"*2)\n",
        "# print(\"5\"*5)\n",
        "for i in range(x+1):\n",
        "  print(str(i) * i)"
      ],
      "metadata": {
        "colab": {
          "base_uri": "https://localhost:8080/"
        },
        "id": "p3nkNrL1Zgft",
        "outputId": "e72c4f76-5b28-4d23-e2f9-20cfd67cecb7"
      },
      "execution_count": 31,
      "outputs": [
        {
          "output_type": "stream",
          "name": "stdout",
          "text": [
            "Enter any Number: 5\n",
            "\n",
            "1\n",
            "22\n",
            "333\n",
            "4444\n",
            "55555\n"
          ]
        }
      ]
    },
    {
      "cell_type": "code",
      "source": [
        "x = 5\n",
        "for i in range(0,x):\n",
        "  for j in range(i):\n",
        "    print(\"*\", end=\" \")\n",
        "  print()\n",
        "for i in range(x,0,-1):\n",
        "  for j in range(i):\n",
        "    print(\"*\", end=\" \")\n",
        "  print()\n",
        "    \n",
        "  \n"
      ],
      "metadata": {
        "colab": {
          "base_uri": "https://localhost:8080/"
        },
        "id": "K6Utp_YUahUo",
        "outputId": "df9870f3-54f0-4ea1-eb89-bdd4dc726d0c"
      },
      "execution_count": 32,
      "outputs": [
        {
          "output_type": "stream",
          "name": "stdout",
          "text": [
            "\n",
            "* \n",
            "* * \n",
            "* * * \n",
            "* * * * \n",
            "* * * * * \n",
            "* * * * \n",
            "* * * \n",
            "* * \n",
            "* \n"
          ]
        }
      ]
    },
    {
      "cell_type": "code",
      "source": [
        "x = input(\"Enter A String: \")\n",
        "countdigits = 0\n",
        "countletters = 0\n",
        "for i in x:\n",
        "  if i.isalpha():\n",
        "    countletters+=1\n",
        "  elif i.isdigit():\n",
        "    countdigits+=1\n",
        "  else:\n",
        "    pass\n",
        "print(\"Letters: \",countletters)\n",
        "print(\"Digits: \",countdigits)"
      ],
      "metadata": {
        "colab": {
          "base_uri": "https://localhost:8080/"
        },
        "id": "GbcIhv6PtR1x",
        "outputId": "85300eef-0851-4cdc-e3b1-6b98149ef969"
      },
      "execution_count": 33,
      "outputs": [
        {
          "output_type": "stream",
          "name": "stdout",
          "text": [
            "Enter A String: Python 3.2\n",
            "Letters:  6\n",
            "Digits:  2\n"
          ]
        }
      ]
    },
    {
      "cell_type": "code",
      "source": [
        "ce=0\n",
        "co=0\n",
        "x = [0,1,2,3,4,5,6,7,8,9]\n",
        "for i in x:\n",
        "  if(i%2==0):\n",
        "    # print('zero')\n",
        "    ce+=1\n",
        "  else:\n",
        "    # print('odd')\n",
        "    co+=1\n",
        "print(\"Odd: \",co)\n",
        "print(\"Even: \",ce)"
      ],
      "metadata": {
        "id": "JsktXNiBuybu",
        "colab": {
          "base_uri": "https://localhost:8080/"
        },
        "outputId": "eba5d656-aef0-4c08-b602-a1e9f456214b"
      },
      "execution_count": 34,
      "outputs": [
        {
          "output_type": "stream",
          "name": "stdout",
          "text": [
            "Odd:  5\n",
            "Even:  5\n"
          ]
        }
      ]
    },
    {
      "cell_type": "code",
      "source": [
        "n = 50\n",
        "x = 0\n",
        "y = 1\n",
        "sum = 0\n",
        "while(sum <= n):\n",
        "  print(sum, end = \" \")\n",
        "  x = y\n",
        "  y = sum\n",
        "  sum = x + y\n",
        "  "
      ],
      "metadata": {
        "colab": {
          "base_uri": "https://localhost:8080/"
        },
        "id": "oWanJZ9uvxA3",
        "outputId": "a633b8f4-b920-4082-c287-c09ac01aaae9"
      },
      "execution_count": 35,
      "outputs": [
        {
          "output_type": "stream",
          "name": "stdout",
          "text": [
            "0 1 1 2 3 5 8 13 21 34 "
          ]
        }
      ]
    },
    {
      "cell_type": "code",
      "source": [
        "for i in range(1500,2701):\n",
        "  if(i%7==0 and i%5==0):\n",
        "    print(i,end=\" \")"
      ],
      "metadata": {
        "colab": {
          "base_uri": "https://localhost:8080/"
        },
        "id": "Vsx13kS85JG5",
        "outputId": "191f030f-a218-416e-ad93-a49e21ef7576"
      },
      "execution_count": 36,
      "outputs": [
        {
          "output_type": "stream",
          "name": "stdout",
          "text": [
            "1505 1540 1575 1610 1645 1680 1715 1750 1785 1820 1855 1890 1925 1960 1995 2030 2065 2100 2135 2170 2205 2240 2275 2310 2345 2380 2415 2450 2485 2520 2555 2590 2625 2660 2695 "
          ]
        }
      ]
    },
    {
      "cell_type": "code",
      "source": [
        "import random\n",
        "n = [1, 2, 3, 4, 5, 6, 7, 8, 9]\n",
        "x = random.choice(n)\n",
        "user = int(input(\"Enter A Number Between 1 & 9: \"))\n",
        "if(user<x):\n",
        "  print(\"You Guessed It Too Low\")\n",
        "elif(user==x):\n",
        "  print(\"You Guessed It Exactly Right\")\n",
        "else:\n",
        "  print(\"You Guessed It Too High\")"
      ],
      "metadata": {
        "colab": {
          "base_uri": "https://localhost:8080/"
        },
        "id": "e2ZB05-Q7SW0",
        "outputId": "28848463-e991-40ed-82f7-be286531fd0f"
      },
      "execution_count": 37,
      "outputs": [
        {
          "output_type": "stream",
          "name": "stdout",
          "text": [
            "Enter A Number Between 1 & 9: 5\n",
            "You Guessed It Too Low\n"
          ]
        }
      ]
    },
    {
      "cell_type": "code",
      "source": [
        "pswd = input(\"Enter Password: \")\n",
        "lc, uc, sc, d = 0, 0, 0, 0\n",
        "if (len(pswd)>=6 and len(pswd)<=16):\n",
        "  for i in pswd:\n",
        "    if (i.islower()):\n",
        "      lc+=1           \n",
        "    if (i.isupper()):\n",
        "      uc+=1           \n",
        "    if (i.isdigit()):\n",
        "      d+=1           \n",
        "    if(i=='$'or i=='@' or i=='#'):\n",
        "      sc+=1          \n",
        "if(lc>=1 and uc>=1 and sc>=1 and d>=1):\n",
        "    print(\"Valid Password\")\n",
        "else:\n",
        "    print(\"Invalid Password\")"
      ],
      "metadata": {
        "colab": {
          "base_uri": "https://localhost:8080/"
        },
        "id": "IR46BAUF83dr",
        "outputId": "2a7dcef5-da39-4c3b-9bb2-476cdc237454"
      },
      "execution_count": 38,
      "outputs": [
        {
          "output_type": "stream",
          "name": "stdout",
          "text": [
            "Enter Password: W3r@100a\n",
            "Valid Password\n"
          ]
        }
      ]
    },
    {
      "cell_type": "code",
      "source": [
        "x = int(input(\"Side X: \"))\n",
        "y = int(input(\"Side Y: \"))\n",
        "z = int(input(\"Side Z: \"))\n",
        "if (x==y==z):\n",
        "  print(\"Triangle is Equilateral\")\n",
        "elif(x!=y!=z):\n",
        "  print(\"Triangle is Scalene\")\n",
        "elif(x==y or x==z or y==z):\n",
        "  print(\"Triangle is Isosceles\")\n",
        "else:\n",
        "  print(\"Triangle is Invalid\")"
      ],
      "metadata": {
        "colab": {
          "base_uri": "https://localhost:8080/"
        },
        "id": "Mp_j99uL_DEd",
        "outputId": "b764f6ce-f799-4cd3-bb90-a0c5eb60d52e"
      },
      "execution_count": 39,
      "outputs": [
        {
          "output_type": "stream",
          "name": "stdout",
          "text": [
            "Side X: 3\n",
            "Side Y: 3\n",
            "Side Z: 3\n",
            "Triangle is Equilateral\n"
          ]
        }
      ]
    },
    {
      "cell_type": "code",
      "source": [
        "x = input(\"Enter An Alphabet: \")\n",
        "alphabet = x.upper()\n",
        "if(alphabet=='A' or alphabet=='E' or alphabet=='I' or alphabet=='O' or alphabet=='U'):\n",
        "  print(\"Vowel\")\n",
        "else:\n",
        "  print(\"Consonant\")"
      ],
      "metadata": {
        "colab": {
          "base_uri": "https://localhost:8080/"
        },
        "id": "egsqNXqeAyxY",
        "outputId": "35c4b345-0e13-406c-a67d-ed894813120b"
      },
      "execution_count": 40,
      "outputs": [
        {
          "output_type": "stream",
          "name": "stdout",
          "text": [
            "Enter An Alphabet: a\n",
            "Vowel\n"
          ]
        }
      ]
    },
    {
      "cell_type": "code",
      "source": [
        "x = ['a','b','c','d']\n",
        "s = \"\"\n",
        "for i in x:\n",
        "  s+=i\n",
        "print(s)"
      ],
      "metadata": {
        "colab": {
          "base_uri": "https://localhost:8080/"
        },
        "id": "eDego7fMLMSQ",
        "outputId": "78d0295b-2913-4eb1-dc53-72be7b305a30"
      },
      "execution_count": 41,
      "outputs": [
        {
          "output_type": "stream",
          "name": "stdout",
          "text": [
            "abcd\n"
          ]
        }
      ]
    },
    {
      "cell_type": "code",
      "source": [
        "l1 = ['Red','Green','Orange','White']\n",
        "l2 = ['Black','Green','White','Pink']\n",
        "x = 0\n",
        "for i in l1:\n",
        "  if(i==l2[x]):\n",
        "    print(i,end=\" \")\n",
        "  else:\n",
        "    x+=1\n"
      ],
      "metadata": {
        "colab": {
          "base_uri": "https://localhost:8080/"
        },
        "id": "fyvDM5lYuyiQ",
        "outputId": "ee24045b-59a6-47f1-fcd6-bbd81bbab507"
      },
      "execution_count": 42,
      "outputs": [
        {
          "output_type": "stream",
          "name": "stdout",
          "text": [
            "Green White "
          ]
        }
      ]
    },
    {
      "cell_type": "code",
      "source": [
        "l1 = [1,2,3,4]\n",
        "l2 = [1,2]\n",
        "x = set(l1).difference(set(l2))\n",
        "l = list(x)\n",
        "print(l)\n"
      ],
      "metadata": {
        "colab": {
          "base_uri": "https://localhost:8080/"
        },
        "id": "HCCoLg0hv2Dz",
        "outputId": "34435da8-9bfd-447f-b922-89bca9d0aa2c"
      },
      "execution_count": 43,
      "outputs": [
        {
          "output_type": "stream",
          "name": "stdout",
          "text": [
            "[3, 4]\n"
          ]
        }
      ]
    },
    {
      "cell_type": "code",
      "source": [
        "x = [1,2,-8,0]\n",
        "sl = min(x)\n",
        "print(sl)"
      ],
      "metadata": {
        "colab": {
          "base_uri": "https://localhost:8080/"
        },
        "id": "d2WaDwcmxnFQ",
        "outputId": "c4337223-62f2-4422-9c97-5b8f695f4b97"
      },
      "execution_count": 44,
      "outputs": [
        {
          "output_type": "stream",
          "name": "stdout",
          "text": [
            "-8\n"
          ]
        }
      ]
    },
    {
      "cell_type": "code",
      "source": [
        "import collections\n",
        "x = [10,10,10,10,20,20,20,20,40,40,50,50,30]\n",
        "f = collections.Counter(x)\n",
        "print(dict(f))"
      ],
      "metadata": {
        "colab": {
          "base_uri": "https://localhost:8080/"
        },
        "id": "NtXGpuiex9zj",
        "outputId": "985c257a-4db1-473d-cae5-2b508bdf77e6"
      },
      "execution_count": 45,
      "outputs": [
        {
          "output_type": "stream",
          "name": "stdout",
          "text": [
            "{10: 4, 20: 4, 40: 2, 50: 2, 30: 1}\n"
          ]
        }
      ]
    }
  ]
}