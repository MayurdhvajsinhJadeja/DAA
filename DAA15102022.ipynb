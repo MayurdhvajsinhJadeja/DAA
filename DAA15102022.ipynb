{
  "nbformat": 4,
  "nbformat_minor": 0,
  "metadata": {
    "colab": {
      "provenance": [],
      "authorship_tag": "ABX9TyNFwnI1iornzHByIrsruGNr",
      "include_colab_link": true
    },
    "kernelspec": {
      "name": "python3",
      "display_name": "Python 3"
    },
    "language_info": {
      "name": "python"
    }
  },
  "cells": [
    {
      "cell_type": "markdown",
      "metadata": {
        "id": "view-in-github",
        "colab_type": "text"
      },
      "source": [
        "<a href=\"https://colab.research.google.com/github/MayurdhvajsinhJadeja/DAA/blob/main/DAA15102022.ipynb\" target=\"_parent\"><img src=\"https://colab.research.google.com/assets/colab-badge.svg\" alt=\"Open In Colab\"/></a>"
      ]
    },
    {
      "cell_type": "code",
      "execution_count": 3,
      "metadata": {
        "colab": {
          "base_uri": "https://localhost:8080/"
        },
        "id": "lhuwEAkOC2HD",
        "outputId": "7f92f767-ff3f-4d46-e1e6-02f5b40d761a"
      },
      "outputs": [
        {
          "output_type": "stream",
          "name": "stdout",
          "text": [
            "The max val is:  300\n"
          ]
        }
      ],
      "source": [
        "def knapsack(val, wt, W, n):\n",
        "  if(n==0 or W==0):  # base case\n",
        "    return 0\n",
        "  if(wt[n-1]>W):  # reject\n",
        "    return knapsack(val, wt, W, n-1)\n",
        "  else:\n",
        "    return max(knapsack(val, wt,W, n-1),   # reject\n",
        "               val[n-1]+knapsack(val, wt, W-wt[n-1], n-1))  # select\n",
        "val=[60,120,180]\n",
        "wt=[10,20,30]\n",
        "W=50\n",
        "n=len(val)\n",
        "print(\"The max val is: \",knapsack(val, wt, W, n))"
      ]
    },
    {
      "cell_type": "code",
      "source": [],
      "metadata": {
        "id": "-XCBRTTOLr4n"
      },
      "execution_count": null,
      "outputs": []
    }
  ]
}